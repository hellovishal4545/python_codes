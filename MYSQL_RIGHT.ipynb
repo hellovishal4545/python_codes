{
 "cells": [
  {
   "cell_type": "code",
   "execution_count": 1,
   "id": "25a4cb3d-49b6-49b2-8acc-84d2650992c7",
   "metadata": {},
   "outputs": [],
   "source": [
    "import numpy as np\n",
    "import pandas as pd\n",
    "import matplotlib.pyplot as plt\n",
    "import seaborn as sns"
   ]
  },
  {
   "cell_type": "code",
   "execution_count": 3,
   "id": "a4690453-83f4-48e9-a0e4-7cf31b1f72d8",
   "metadata": {},
   "outputs": [],
   "source": [
    "import mysql.connector as con"
   ]
  },
  {
   "cell_type": "code",
   "execution_count": 5,
   "id": "7c1d88ca-28a8-427c-8255-945e8035bd4d",
   "metadata": {},
   "outputs": [],
   "source": [
    "mydb = con.connect(host = 'localhost',user = 'root',passwd = 'Vishal@#4545')"
   ]
  },
  {
   "cell_type": "markdown",
   "id": "1274009f-7974-45d2-b9dc-32285533b81c",
   "metadata": {},
   "source": [
    "Create database"
   ]
  },
  {
   "cell_type": "code",
   "execution_count": 9,
   "id": "3ee5e500-4c04-47a8-95cd-03aaf25c2eae",
   "metadata": {},
   "outputs": [],
   "source": [
    "mycur = mydb.cursor()\n",
    "mycur.execute('create database employee')"
   ]
  },
  {
   "cell_type": "code",
   "execution_count": 13,
   "id": "bfe655fd-ee63-4193-bd65-7aaa70dd8e8c",
   "metadata": {},
   "outputs": [
    {
     "name": "stdout",
     "output_type": "stream",
     "text": [
      "('aa1',)\n",
      "('employee',)\n",
      "('information_schema',)\n",
      "('my',)\n",
      "('mysql',)\n",
      "('performance_schema',)\n",
      "('students_1',)\n",
      "('sys',)\n",
      "('test',)\n",
      "('v1',)\n"
     ]
    }
   ],
   "source": [
    "mycur.execute('show databases')\n",
    "for i in mycur:\n",
    "    print(i)"
   ]
  },
  {
   "cell_type": "markdown",
   "id": "d610000c-820a-437a-bba7-84c774b551c9",
   "metadata": {},
   "source": [
    "Create table"
   ]
  },
  {
   "cell_type": "code",
   "execution_count": 17,
   "id": "67c838ed-9e48-42a0-ac86-37452928ad48",
   "metadata": {},
   "outputs": [],
   "source": [
    "mydb = con.connect(host = 'localhost',user = 'root',passwd ='Vishal@#4545',database = 'employee')"
   ]
  },
  {
   "cell_type": "code",
   "execution_count": 19,
   "id": "a302f5db-2f2e-4981-ae7d-c95469c6cab8",
   "metadata": {},
   "outputs": [],
   "source": [
    "mycur = mydb.cursor()"
   ]
  },
  {
   "cell_type": "code",
   "execution_count": 23,
   "id": "5afb5da6-ad19-4c62-8229-5e036b7f6e1f",
   "metadata": {},
   "outputs": [],
   "source": [
    "mycur.execute('create table empl(name varchar(20) not null,id int not null unique,post varchar(20) not null,salary int not null)')"
   ]
  },
  {
   "cell_type": "code",
   "execution_count": 25,
   "id": "49c0549a-6714-4b67-9d43-a2f12e8abe1e",
   "metadata": {},
   "outputs": [
    {
     "name": "stdout",
     "output_type": "stream",
     "text": [
      "('empl',)\n"
     ]
    }
   ],
   "source": [
    "mycur.execute('show tables')\n",
    "for i in  mycur:\n",
    "    print(i)"
   ]
  },
  {
   "cell_type": "markdown",
   "id": "06e52dab-880e-4b8c-bfd2-892ef180be3b",
   "metadata": {},
   "source": [
    "entities add in table"
   ]
  },
  {
   "cell_type": "code",
   "execution_count": 28,
   "id": "f7ddca46-a482-47c2-a3df-4191578d4fc9",
   "metadata": {},
   "outputs": [],
   "source": [
    "data = 'insert into empl (name,id,post,salary) values(%s,%s,%s,%s)' "
   ]
  },
  {
   "cell_type": "code",
   "execution_count": 30,
   "id": "df2c2608-723e-4e70-8f98-3db30a9d2ff0",
   "metadata": {},
   "outputs": [],
   "source": [
    "d1 = [\n",
    "    ('Radha Shrinivas',122,'HR',54000),\n",
    "    ('Sanjiv Sharma',34,'Data Scientist',75000),\n",
    "    ('Ishani Pathak',11,'Software Developer',60000),\n",
    "    ('Giva Patel',45,'Web Developer',55000),\n",
    "    ('Ram Pandya',65,'Manager',65000),\n",
    "    ('Rekha Trivedi',144,'HR',50000),\n",
    "    ('Samir Bhatt',40,'Software Developer',65000),\n",
    "    ('Kasish Verma',54,'Data Scientist',55000),\n",
    "    ('Hari Jadega',550,'HR',54000),\n",
    "    ('Nandani Shah',510,'Web Developer',45000),\n",
    "    ('Sahil Yadav',35,'Electirc Engineer',45000),\n",
    "    ('Kuldeep Kori',51,'Electric Engineer',50000),\n",
    "    ('Priya Mehta',601,'Software Developer',45000),\n",
    "    ('Om Patel',69,'HR',35000),\n",
    "    ('Ami Rajput',811,'Data Scientist',50000),\n",
    "    ('Falgun Shah',31,'App Developer',45000),\n",
    "    ('Vishal Obroei',92,'App Developer',65000),\n",
    "    ('Chirag Dave',86,'Web Developer',51000)\n",
    "    \n",
    "]"
   ]
  },
  {
   "cell_type": "code",
   "execution_count": 32,
   "id": "c41986de-b52e-46fb-8f0a-16f80e62b720",
   "metadata": {},
   "outputs": [],
   "source": [
    "mycur.executemany(data,d1)\n",
    "mydb.commit()"
   ]
  },
  {
   "cell_type": "code",
   "execution_count": 40,
   "id": "4a300384-c28a-4310-8c81-2f2e680ec79b",
   "metadata": {},
   "outputs": [],
   "source": [
    "for i in mycur:\n",
    "    print(i)"
   ]
  },
  {
   "cell_type": "code",
   "execution_count": 42,
   "id": "2f4c6059-e732-4d38-b9b2-bf822019093b",
   "metadata": {},
   "outputs": [
    {
     "name": "stdout",
     "output_type": "stream",
     "text": [
      "('Ishani Pathak', 11, 'Software Developer', 60000)\n",
      "('Falgun Shah', 31, 'App Developer', 45000)\n",
      "('Sanjiv Sharma', 34, 'Data Scientist', 75000)\n",
      "('Sahil Yadav', 35, 'Electirc Engineer', 45000)\n",
      "('Samir Bhatt', 40, 'Software Developer', 65000)\n",
      "('Giva Patel', 45, 'Web Developer', 55000)\n",
      "('Kuldeep Kori', 51, 'Electric Engineer', 50000)\n",
      "('Kasish Verma', 54, 'Data Scientist', 55000)\n",
      "('Ram Pandya', 65, 'Manager', 65000)\n",
      "('Om Patel', 69, 'HR', 35000)\n",
      "('Chirag Dave', 86, 'Web Developer', 51000)\n",
      "('Vishal Obroei', 92, 'App Developer', 65000)\n",
      "('Radha Shrinivas', 122, 'HR', 54000)\n",
      "('Rekha Trivedi', 144, 'HR', 50000)\n",
      "('Nandani Shah', 510, 'Web Developer', 45000)\n",
      "('Hari Jadega', 550, 'HR', 54000)\n",
      "('Priya Mehta', 601, 'Software Developer', 45000)\n",
      "('Ami Rajput', 811, 'Data Scientist', 50000)\n"
     ]
    }
   ],
   "source": [
    "q = 'select * from empl'\n",
    "mycur.execute(q)\n",
    "re = mycur.fetchall()\n",
    "for i in re:\n",
    "    print(i)"
   ]
  },
  {
   "cell_type": "code",
   "execution_count": 46,
   "id": "ad5efa9b-c0e7-4fd7-89ea-b12f9d575df2",
   "metadata": {},
   "outputs": [
    {
     "name": "stdout",
     "output_type": "stream",
     "text": [
      "('Ishani Pathak', 11)\n",
      "('Falgun Shah', 31)\n",
      "('Sanjiv Sharma', 34)\n",
      "('Sahil Yadav', 35)\n",
      "('Samir Bhatt', 40)\n",
      "('Giva Patel', 45)\n",
      "('Kuldeep Kori', 51)\n",
      "('Kasish Verma', 54)\n",
      "('Ram Pandya', 65)\n",
      "('Om Patel', 69)\n",
      "('Chirag Dave', 86)\n",
      "('Vishal Obroei', 92)\n",
      "('Radha Shrinivas', 122)\n",
      "('Rekha Trivedi', 144)\n",
      "('Nandani Shah', 510)\n",
      "('Hari Jadega', 550)\n",
      "('Priya Mehta', 601)\n",
      "('Ami Rajput', 811)\n"
     ]
    }
   ],
   "source": [
    "mycur.execute('select name,id from empl')\n",
    "re = mycur.fetchall()\n",
    "for i in re:\n",
    "    print(i)"
   ]
  },
  {
   "cell_type": "code",
   "execution_count": 50,
   "id": "d53c8224-5bfa-405c-9b0d-0d0b248bbda9",
   "metadata": {},
   "outputs": [
    {
     "name": "stdout",
     "output_type": "stream",
     "text": [
      "('Ami Rajput', 811, 'Data Scientist', 50000)\n"
     ]
    }
   ],
   "source": [
    "q = 'select * from empl where id>700'\n",
    "mycur.execute(q)\n",
    "re = mycur.fetchall()\n",
    "for i in re:\n",
    "    print(i)"
   ]
  },
  {
   "cell_type": "code",
   "execution_count": 80,
   "id": "ff6928af-aa05-4353-947d-06042af7cc86",
   "metadata": {},
   "outputs": [
    {
     "name": "stdout",
     "output_type": "stream",
     "text": [
      "('Falgun Shah', 'App Developer', 45000)\n",
      "('Sahil Yadav', 'Electirc Engineer', 45000)\n",
      "('Om Patel', 'HR', 35000)\n"
     ]
    }
   ],
   "source": [
    "q = \"\"\"select name ,post ,salary from empl where id<100 and salary<50000\"\"\"\n",
    "mycur.execute(q)\n",
    "re = mycur.fetchall()\n",
    "for i in re:\n",
    "    print(i)"
   ]
  },
  {
   "cell_type": "code",
   "execution_count": 106,
   "id": "34e6049a-85eb-4151-80b9-7c38ca44dfab",
   "metadata": {},
   "outputs": [
    {
     "name": "stdout",
     "output_type": "stream",
     "text": [
      "('Falgun Shah', 31, 'App Developer')\n",
      "('Om Patel', 69, 'HR')\n",
      "('Vishal Obroei', 92, 'App Developer')\n",
      "('Radha Shrinivas', 122, 'HR')\n",
      "('Rekha Trivedi', 144, 'HR')\n",
      "('Hari Jadega', 550, 'HR')\n"
     ]
    }
   ],
   "source": [
    "mycur.execute('select name , id,post from empl where post =\"HR\"  or post = \"App developer\" ')\n",
    "re = mycur.fetchall()\n",
    "for i in re:\n",
    "    print(i)"
   ]
  },
  {
   "cell_type": "code",
   "execution_count": 110,
   "id": "1b08430c-9279-4bb6-9ffd-7ea3023bdbac",
   "metadata": {},
   "outputs": [
    {
     "name": "stdout",
     "output_type": "stream",
     "text": [
      "('Giva Patel', 'Web Developer', 45)\n",
      "('Om Patel', 'HR', 69)\n",
      "('Chirag Dave', 'Web Developer', 86)\n",
      "('Radha Shrinivas', 'HR', 122)\n",
      "('Rekha Trivedi', 'HR', 144)\n",
      "('Hari Jadega', 'HR', 550)\n"
     ]
    }
   ],
   "source": [
    "q = 'select name,post,id from empl where post = \"HR\" or post = \"Web Developer\" and id<500 '\n",
    "mycur.execute(q)\n",
    "re =mycur.fetchall()\n",
    "for i in re:\n",
    "    print(i)"
   ]
  },
  {
   "cell_type": "code",
   "execution_count": 112,
   "id": "724f17bb-6d40-42e0-bb63-6390ff77ef7e",
   "metadata": {},
   "outputs": [
    {
     "name": "stdout",
     "output_type": "stream",
     "text": [
      "('Ishani Pathak', 11, 'Software Developer', 60000)\n"
     ]
    }
   ],
   "source": [
    "q = 'select * from empl where salary in(40000,60000)'\n",
    "mycur.execute(q)\n",
    "re = mycur.fetchall()\n",
    "for i in re:\n",
    "    print(i)"
   ]
  },
  {
   "cell_type": "code",
   "execution_count": 132,
   "id": "6f48d856-3a23-428f-8af8-da05ba5224a8",
   "metadata": {},
   "outputs": [
    {
     "name": "stdout",
     "output_type": "stream",
     "text": [
      "('Falgun Shah', 31, 'App Developer', 45000)\n",
      "('Sahil Yadav', 35, 'Electirc Engineer', 45000)\n",
      "('Kuldeep Kori', 51, 'Electric Engineer', 50000)\n",
      "('Rekha Trivedi', 144, 'HR', 50000)\n",
      "('Nandani Shah', 510, 'Web Developer', 45000)\n",
      "('Priya Mehta', 601, 'Software Developer', 45000)\n",
      "('Ami Rajput', 811, 'Data Scientist', 50000)\n"
     ]
    }
   ],
   "source": [
    "q = 'select * from empl where salary between 40000 and 50000'\n",
    "mycur.execute(q)\n",
    "re = mycur.fetchall()\n",
    "for i in re:\n",
    "    print(i)"
   ]
  },
  {
   "cell_type": "code",
   "execution_count": 140,
   "id": "b324c594-e3c8-45e9-bcbd-a8eefbd7f88b",
   "metadata": {},
   "outputs": [
    {
     "name": "stdout",
     "output_type": "stream",
     "text": [
      "('Ishani Pathak', 11, 'Software Developer', 60000)\n",
      "('Sahil Yadav', 35, 'Electirc Engineer', 45000)\n",
      "('Giva Patel', 45, 'Web Developer', 55000)\n",
      "('Ram Pandya', 65, 'Manager', 65000)\n",
      "('Radha Shrinivas', 122, 'HR', 54000)\n",
      "('Rekha Trivedi', 144, 'HR', 50000)\n"
     ]
    }
   ],
   "source": [
    "mycur.execute('select * from empl where id like \"1%\" or id like \"%5\"')\n",
    "re = mycur.fetchall()\n",
    "for i in re:\n",
    "    print(i)"
   ]
  },
  {
   "cell_type": "code",
   "execution_count": 150,
   "id": "7dd42270-0920-441f-966b-0e37970ea357",
   "metadata": {},
   "outputs": [
    {
     "name": "stdout",
     "output_type": "stream",
     "text": [
      "('Chirag Dave', 86, 51000)\n",
      "('Kasish Verma', 54, 55000)\n",
      "('Kuldeep Kori', 51, 50000)\n",
      "('Om Patel', 69, 35000)\n",
      "('Ram Pandya', 65, 65000)\n",
      "('Vishal Obroei', 92, 65000)\n"
     ]
    }
   ],
   "source": [
    "q = 'select  name ,id , salary from empl where id between 50 AND 110 order by name asc'\n",
    "mycur.execute(q)\n",
    "re = mycur.fetchall()\n",
    "for i in re:\n",
    "    print(i)"
   ]
  },
  {
   "cell_type": "code",
   "execution_count": 164,
   "id": "6c19ccf2-a177-48ca-a7b0-5d9fc3699846",
   "metadata": {},
   "outputs": [
    {
     "name": "stdout",
     "output_type": "stream",
     "text": [
      "('Ami Rajput', 'Data Scientist', 811)\n",
      "('Chirag Dave', 'Web Developer', 86)\n",
      "('Falgun Shah', 'App Developer', 31)\n",
      "('Giva Patel', 'Web Developer', 45)\n",
      "('Hari Jadega', 'HR', 550)\n"
     ]
    }
   ],
   "source": [
    "mycur.execute('select name , post,id from empl order by name asc limit 5')\n",
    "re = mycur.fetchall()\n",
    "for i in re:\n",
    "    print(i)"
   ]
  },
  {
   "cell_type": "code",
   "execution_count": 170,
   "id": "557e721a-acd3-4b86-bc1d-26aaaee1afb3",
   "metadata": {},
   "outputs": [
    {
     "name": "stdout",
     "output_type": "stream",
     "text": [
      "(18,)\n"
     ]
    }
   ],
   "source": [
    "q = 'select count(name) from empl'\n",
    "mycur.execute(q)\n",
    "re  =mycur.fetchall()\n",
    "for i in re:\n",
    "    print(i)"
   ]
  },
  {
   "cell_type": "code",
   "execution_count": 176,
   "id": "e97fb9fd-e6d7-46ac-9858-ac16f692937a",
   "metadata": {},
   "outputs": [
    {
     "name": "stdout",
     "output_type": "stream",
     "text": [
      "(18, 18, 18, 18)\n"
     ]
    }
   ],
   "source": [
    "q = 'select count(id),count(salary) ,count(post),count(post) from empl'\n",
    "mycur.execute(q)\n",
    "re  =mycur.fetchall()\n",
    "for i in re:\n",
    "    print(i)"
   ]
  },
  {
   "cell_type": "code",
   "execution_count": null,
   "id": "29d687d4-f46f-4146-ae92-9e5517c93dd9",
   "metadata": {},
   "outputs": [],
   "source": []
  }
 ],
 "metadata": {
  "kernelspec": {
   "display_name": "Python 3 (ipykernel)",
   "language": "python",
   "name": "python3"
  },
  "language_info": {
   "codemirror_mode": {
    "name": "ipython",
    "version": 3
   },
   "file_extension": ".py",
   "mimetype": "text/x-python",
   "name": "python",
   "nbconvert_exporter": "python",
   "pygments_lexer": "ipython3",
   "version": "3.11.7"
  }
 },
 "nbformat": 4,
 "nbformat_minor": 5
}
